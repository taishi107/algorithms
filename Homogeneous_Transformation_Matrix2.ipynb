{
 "cells": [
  {
   "cell_type": "code",
   "execution_count": 1,
   "metadata": {
    "collapsed": true
   },
   "outputs": [],
   "source": [
    "import numpy as np\n",
    "from math import atan2,sin,cos,asin\n",
    "import math"
   ]
  },
  {
   "cell_type": "code",
   "execution_count": 2,
   "metadata": {},
   "outputs": [],
   "source": [
    "class Homogeneous_conversion():\n",
    "    def __init__(self):\n",
    "        self.T0 = np.matrix([[1,0,0,0],\n",
    "                            [0,1,0,0],\n",
    "                            [0,0,1,0],\n",
    "                            [0,0,0,1]])\n",
    "\n",
    "    ### 回転行列 ###\n",
    "    def rotation_matrix(self,th):\n",
    "        rad = np.radians(th)\n",
    "        rad_x = rad[0]\n",
    "        rad_y = rad[1]\n",
    "        rad_z = rad[2]\n",
    "\n",
    "        Rx = np.matrix([[1.,0.,0.,0.],\n",
    "                       [0.,cos(rad_x),-sin(rad_x),0.],\n",
    "                       [0.,sin(rad_x),cos(rad_x),0.],\n",
    "                       [0.,0.,0.,1.]])\n",
    "\n",
    "        Ry = np.matrix([[cos(rad_y),0.,sin(rad_y),0.],\n",
    "                       [0.,1.,0.,0.],\n",
    "                       [-sin(rad_y),0.,cos(rad_y),0.],\n",
    "                       [0.,0.,0.,1.]])\n",
    "\n",
    "        Rz = np.matrix([[cos(rad_z),-sin(rad_z),0.,0.],\n",
    "                       [sin(rad_z),cos(rad_z),0.,0.],\n",
    "                       [0.,0.,1.,0.],\n",
    "                       [0.,0.,0.,1.]])\n",
    "        R = Rz * Ry * Rx\n",
    "        return R\n",
    "\n",
    "    ### 並進ベクトル ###\n",
    "    def translational_vector(self,p):\n",
    "        x = p[0]\n",
    "        y = p[1]\n",
    "        z = p[2]\n",
    "        P = np.matrix([[1.,0.,0.,x],\n",
    "                       [0.,1.,0.,y],\n",
    "                       [0.,0.,1.,z],\n",
    "                       [0.,0.,0.,1.]])\n",
    "        return P\n",
    "\n",
    "    ### 同次変換行列の計算 ###\n",
    "    def calculation(self,T,p,th):\n",
    "        R = self.rotation_matrix(th)\n",
    "        P = self.translational_vector(p)\n",
    "        T = T * P * R\n",
    "        return T"
   ]
  },
  {
   "cell_type": "code",
   "execution_count": 3,
   "metadata": {
    "collapsed": true
   },
   "outputs": [],
   "source": [
    "def deg(R):\n",
    "    return([atan2(round(R[2,1],10),round(R[2,2],10)),\n",
    "            atan2(round(math.sqrt(math.pow(R[0,2],2) + math.pow(R[1,2],2)),10),round(R[2,2],10)),\n",
    "            atan2(round(R[1,0],10),round(R[0,0],10))])"
   ]
  },
  {
   "cell_type": "code",
   "execution_count": 4,
   "metadata": {},
   "outputs": [
    {
     "name": "stdout",
     "output_type": "stream",
     "text": [
      "[[ 1.  0.  0.  2.]\n",
      " [ 0.  1.  0.  4.]\n",
      " [ 0.  0.  1.  6.]\n",
      " [ 0.  0.  0.  1.]]\n",
      "[0.0, 0.0, 0.0]\n"
     ]
    }
   ],
   "source": [
    "HC = Homogeneous_conversion()\n",
    "p = [2,4,6]\n",
    "th = [0,0,0]\n",
    "T = HC.calculation(HC.T0,p,th)\n",
    "print(T)\n",
    "print(deg(T))"
   ]
  },
  {
   "cell_type": "code",
   "execution_count": 5,
   "metadata": {},
   "outputs": [
    {
     "name": "stdout",
     "output_type": "stream",
     "text": [
      "[[  1.   0.   0.   4.]\n",
      " [  0.   1.   0.   8.]\n",
      " [  0.   0.   1.  12.]\n",
      " [  0.   0.   0.   1.]]\n",
      "[0.0, 0.0, 0.0]\n"
     ]
    }
   ],
   "source": [
    "p = [2,4,6]\n",
    "th = [0,0,0]\n",
    "T = HC.calculation(T,p,th)\n",
    "print(T)\n",
    "print(deg(T))"
   ]
  },
  {
   "cell_type": "code",
   "execution_count": 6,
   "metadata": {},
   "outputs": [
    {
     "name": "stdout",
     "output_type": "stream",
     "text": [
      "[[  0.5         0.          0.8660254   4.       ]\n",
      " [  0.          1.          0.          8.       ]\n",
      " [ -0.8660254   0.          0.5        12.       ]\n",
      " [  0.          0.          0.          1.       ]]\n",
      "[  0.  60.   0.]\n"
     ]
    }
   ],
   "source": [
    "p = [0,0,0]\n",
    "th = [0,60,0]\n",
    "T = HC.calculation(T,p,th)\n",
    "print(T)\n",
    "print(np.degrees(deg(T)))"
   ]
  },
  {
   "cell_type": "code",
   "execution_count": 7,
   "metadata": {
    "scrolled": true
   },
   "outputs": [
    {
     "name": "stdout",
     "output_type": "stream",
     "text": [
      "[[  0.8660254   0.          0.5         4.       ]\n",
      " [  0.          1.          0.          8.       ]\n",
      " [ -0.5         0.          0.8660254  12.       ]\n",
      " [  0.          0.          0.          1.       ]]\n",
      "[  0.  30.   0.]\n"
     ]
    }
   ],
   "source": [
    "p = [0,0,0]\n",
    "th = [0,-30,0]\n",
    "T = HC.calculation(T,p,th)\n",
    "print(T)\n",
    "print(np.degrees(deg(T)))"
   ]
  },
  {
   "cell_type": "code",
   "execution_count": 8,
   "metadata": {},
   "outputs": [
    {
     "name": "stdout",
     "output_type": "stream",
     "text": [
      "[[  0.25881905   0.           0.96592583   4.        ]\n",
      " [  0.           1.           0.           8.        ]\n",
      " [ -0.96592583   0.           0.25881905  12.        ]\n",
      " [  0.           0.           0.           1.        ]]\n",
      "[  0.  75.   0.]\n"
     ]
    }
   ],
   "source": [
    "p = [0,0,0]\n",
    "th = [0,45,0]\n",
    "T = HC.calculation(T,p,th)\n",
    "print(T)\n",
    "print(np.degrees(deg(T)))"
   ]
  },
  {
   "cell_type": "code",
   "execution_count": 9,
   "metadata": {},
   "outputs": [
    {
     "name": "stdout",
     "output_type": "stream",
     "text": [
      "[[  0.16636568  -0.19826689   0.96592583   4.        ]\n",
      " [  0.76604444   0.64278761   0.           8.        ]\n",
      " [ -0.62088515   0.73994211   0.25881905  12.        ]\n",
      " [  0.           0.           0.           1.        ]]\n",
      "[ 70.72103959  75.          77.74706277]\n"
     ]
    }
   ],
   "source": [
    "p = [0,0,0]\n",
    "th = [0,0,50]\n",
    "T = HC.calculation(T,p,th)\n",
    "print(T)\n",
    "print(np.degrees(deg(T)))"
   ]
  }
 ],
 "metadata": {
  "kernelspec": {
   "display_name": "Python 3",
   "language": "python",
   "name": "python3"
  },
  "language_info": {
   "codemirror_mode": {
    "name": "ipython",
    "version": 3
   },
   "file_extension": ".py",
   "mimetype": "text/x-python",
   "name": "python",
   "nbconvert_exporter": "python",
   "pygments_lexer": "ipython3",
   "version": "3.6.4"
  }
 },
 "nbformat": 4,
 "nbformat_minor": 2
}
