{
 "cells": [
  {
   "cell_type": "code",
   "execution_count": 33,
   "metadata": {},
   "outputs": [],
   "source": [
    "from sympy import *\n",
    "from sympy.abc import *\n",
    "init_printing()\n",
    "from math import *"
   ]
  },
  {
   "cell_type": "code",
   "execution_count": 4,
   "metadata": {},
   "outputs": [
    {
     "data": {
      "image/png": "[encoded data removed]",
      "text/latex": [
       "$$\\left ( \\theta, \\quad \\phi, \\quad \\psi\\right )$$"
      ],
      "text/plain": [
       "(θ, φ, ψ)"
      ]
     },
     "execution_count": 4,
     "metadata": {},
     "output_type": "execute_result"
    }
   ],
   "source": [
    "theta, phi, psi"
   ]
  },
  {
   "cell_type": "code",
   "execution_count": 6,
   "metadata": {},
   "outputs": [
    {
     "data": {
      "image/png": "[encoded data removed]",
      "text/latex": [
       "$$\\left[\\begin{matrix}\\cos{\\left (\\theta \\right )} & - \\sin{\\left (\\theta \\right )} & 0\\\\\\sin{\\left (\\theta \\right )} & \\cos{\\left (\\theta \\right )} & 0\\\\0 & 0 & 1\\end{matrix}\\right]$$"
      ],
      "text/plain": [
       "⎡cos(θ)  -sin(θ)  0⎤\n",
       "⎢                  ⎥\n",
       "⎢sin(θ)  cos(θ)   0⎥\n",
       "⎢                  ⎥\n",
       "⎣  0        0     1⎦"
      ]
     },
     "execution_count": 6,
     "metadata": {},
     "output_type": "execute_result"
    }
   ],
   "source": [
    "Rz = Matrix([[cos(theta),-sin(theta),0],[sin(theta), cos(theta),0], [0,0,1]])\n",
    "Rz"
   ]
  },
  {
   "cell_type": "code",
   "execution_count": 8,
   "metadata": {},
   "outputs": [
    {
     "data": {
      "image/png": "[encoded data removed]",
      "text/latex": [
       "$$\\left[\\begin{matrix}\\cos{\\left (\\psi \\right )} & 0 & \\sin{\\left (\\psi \\right )}\\\\0 & 1 & 0\\\\- \\sin{\\left (\\psi \\right )} & 0 & \\cos{\\left (\\psi \\right )}\\end{matrix}\\right]$$"
      ],
      "text/plain": [
       "⎡cos(ψ)   0  sin(ψ)⎤\n",
       "⎢                  ⎥\n",
       "⎢   0     1    0   ⎥\n",
       "⎢                  ⎥\n",
       "⎣-sin(ψ)  0  cos(ψ)⎦"
      ]
     },
     "execution_count": 8,
     "metadata": {},
     "output_type": "execute_result"
    }
   ],
   "source": [
    "Ry = Matrix([[cos(psi), 0, sin(psi)], [0, 1, 0],[-sin(psi), 0, cos(psi)]])\n",
    "Ry"
   ]
  },
  {
   "cell_type": "code",
   "execution_count": 9,
   "metadata": {},
   "outputs": [
    {
     "data": {
      "image/png": "[encoded data removed]",
      "text/latex": [
       "$$\\left[\\begin{matrix}1 & 0 & 0\\\\0 & \\cos{\\left (\\phi \\right )} & - \\sin{\\left (\\phi \\right )}\\\\0 & \\sin{\\left (\\phi \\right )} & \\cos{\\left (\\phi \\right )}\\end{matrix}\\right]$$"
      ],
      "text/plain": [
       "⎡1    0        0   ⎤\n",
       "⎢                  ⎥\n",
       "⎢0  cos(φ)  -sin(φ)⎥\n",
       "⎢                  ⎥\n",
       "⎣0  sin(φ)  cos(φ) ⎦"
      ]
     },
     "execution_count": 9,
     "metadata": {},
     "output_type": "execute_result"
    }
   ],
   "source": [
    "Rx = Matrix([[1, 0, 0], [0, cos(phi), -sin(phi)], [0, sin(phi), cos(phi)]])\n",
    "Rx"
   ]
  },
  {
   "cell_type": "code",
   "execution_count": 10,
   "metadata": {},
   "outputs": [
    {
     "data": {
      "image/png": "[encoded data removed]",
      "text/latex": [
       "$$\\left[\\begin{matrix}\\cos{\\left (\\psi \\right )} \\cos{\\left (\\theta \\right )} & \\sin{\\left (\\phi \\right )} \\sin{\\left (\\psi \\right )} \\cos{\\left (\\theta \\right )} - \\sin{\\left (\\theta \\right )} \\cos{\\left (\\phi \\right )} & \\sin{\\left (\\phi \\right )} \\sin{\\left (\\theta \\right )} + \\sin{\\left (\\psi \\right )} \\cos{\\left (\\phi \\right )} \\cos{\\left (\\theta \\right )}\\\\\\sin{\\left (\\theta \\right )} \\cos{\\left (\\psi \\right )} & \\sin{\\left (\\phi \\right )} \\sin{\\left (\\psi \\right )} \\sin{\\left (\\theta \\right )} + \\cos{\\left (\\phi \\right )} \\cos{\\left (\\theta \\right )} & - \\sin{\\left (\\phi \\right )} \\cos{\\left (\\theta \\right )} + \\sin{\\left (\\psi \\right )} \\sin{\\left (\\theta \\right )} \\cos{\\left (\\phi \\right )}\\\\- \\sin{\\left (\\psi \\right )} & \\sin{\\left (\\phi \\right )} \\cos{\\left (\\psi \\right )} & \\cos{\\left (\\phi \\right )} \\cos{\\left (\\psi \\right )}\\end{matrix}\\right]$$"
      ],
      "text/plain": [
       "⎡cos(ψ)⋅cos(θ)  sin(φ)⋅sin(ψ)⋅cos(θ) - sin(θ)⋅cos(φ)  sin(φ)⋅sin(θ) + sin(ψ)⋅c\n",
       "⎢                                                                             \n",
       "⎢sin(θ)⋅cos(ψ)  sin(φ)⋅sin(ψ)⋅sin(θ) + cos(φ)⋅cos(θ)  -sin(φ)⋅cos(θ) + sin(ψ)⋅\n",
       "⎢                                                                             \n",
       "⎣   -sin(ψ)                sin(φ)⋅cos(ψ)                          cos(φ)⋅cos(ψ\n",
       "\n",
       "os(φ)⋅cos(θ) ⎤\n",
       "             ⎥\n",
       "sin(θ)⋅cos(φ)⎥\n",
       "             ⎥\n",
       ")            ⎦"
      ]
     },
     "execution_count": 10,
     "metadata": {},
     "output_type": "execute_result"
    }
   ],
   "source": [
    "Rz*Ry*Rx"
   ]
  },
  {
   "cell_type": "code",
   "execution_count": 11,
   "metadata": {
    "collapsed": true
   },
   "outputs": [],
   "source": [
    "import numpy as np"
   ]
  },
  {
   "cell_type": "code",
   "execution_count": 15,
   "metadata": {},
   "outputs": [
    {
     "data": {
      "image/png": "[encoded data removed]",
      "text/latex": [
       "$$90.0$$"
      ],
      "text/plain": [
       "90.0"
      ]
     },
     "execution_count": 15,
     "metadata": {},
     "output_type": "execute_result"
    }
   ],
   "source": [
    "np.degrees(np.radians(90))"
   ]
  },
  {
   "cell_type": "code",
   "execution_count": 59,
   "metadata": {},
   "outputs": [
    {
     "name": "stdout",
     "output_type": "stream",
     "text": [
      "Matrix([[0.984807753012208, 0.150383733180435, -0.0868240888334651], [0, -0.500000000000000, -0.866025403784439], [-0.173648177666930, 0.852868531952443, -0.492403876506104]])\n"
     ]
    }
   ],
   "source": [
    "R = (Rz*Ry*Rx).subs([(theta, np.radians(0)), (psi, np.radians(10)), (phi, np.radians(120))])\n",
    "print(R)"
   ]
  },
  {
   "cell_type": "code",
   "execution_count": 38,
   "metadata": {},
   "outputs": [
    {
     "data": {
      "image/png": "[encoded data removed]",
      "text/latex": [
       "$$\\left[\\begin{matrix}0.984807753012208 & 0.150383733180435 & -0.0868240888334651\\\\0 & -0.5 & -0.866025403784439\\\\-0.17364817766693 & 0.852868531952443 & -0.492403876506104\\end{matrix}\\right]$$"
      ],
      "text/plain": [
       "⎡0.984807753012208  0.150383733180435  -0.0868240888334651⎤\n",
       "⎢                                                         ⎥\n",
       "⎢        0                -0.5         -0.866025403784439 ⎥\n",
       "⎢                                                         ⎥\n",
       "⎣-0.17364817766693  0.852868531952443  -0.492403876506104 ⎦"
      ]
     },
     "execution_count": 38,
     "metadata": {},
     "output_type": "execute_result"
    }
   ],
   "source": [
    "R"
   ]
  },
  {
   "cell_type": "code",
   "execution_count": 57,
   "metadata": {},
   "outputs": [],
   "source": [
    "def deg(R):\n",
    "    y = atan2(R[2,1], R[2,2])\n",
    "    p = asin(-R[2,0])\n",
    "    r = atan2(R[1,0],R[0,0])\n",
    "    print(r, p, y)\n",
    "    return np.rad2deg(r), np.degrees(p), np.degrees(y)"
   ]
  },
  {
   "cell_type": "code",
   "execution_count": 60,
   "metadata": {},
   "outputs": [
    {
     "name": "stdout",
     "output_type": "stream",
     "text": [
      "0.0 0.17453292519943295 2.0943951023931953\n"
     ]
    },
    {
     "data": {
      "image/png": "[encoded data removed]",
      "text/latex": [
       "$$\\left ( 0.0, \\quad 10.0, \\quad 120.0\\right )$$"
      ],
      "text/plain": [
       "(0.0, 10.0, 120.0)"
      ]
     },
     "execution_count": 60,
     "metadata": {},
     "output_type": "execute_result"
    }
   ],
   "source": [
    "deg(R)"
   ]
  },
  {
   "cell_type": "code",
   "execution_count": 61,
   "metadata": {
    "collapsed": true
   },
   "outputs": [],
   "source": [
    "R = R*(Rz*Ry*Rx).subs([(theta, np.radians(120)), (psi, np.radians(0)), (phi, np.radians(0))])"
   ]
  },
  {
   "cell_type": "code",
   "execution_count": 62,
   "metadata": {},
   "outputs": [
    {
     "name": "stdout",
     "output_type": "stream",
     "text": [
      "-2.2673361667802903 -0.9709633354736863 -2.6306339056899266\n"
     ]
    },
    {
     "data": {
      "image/png": "[encoded data removed]",
      "text/latex": [
       "$$\\left ( -129.908793094, \\quad -55.6321011846, \\quad -150.72422024\\right )$$"
      ],
      "text/plain": [
       "(-129.908793094, -55.6321011846, -150.72422024)"
      ]
     },
     "execution_count": 62,
     "metadata": {},
     "output_type": "execute_result"
    }
   ],
   "source": [
    "deg(R)"
   ]
  },
  {
   "cell_type": "code",
   "execution_count": 63,
   "metadata": {},
   "outputs": [
    {
     "data": {
      "image/png": "[encoded data removed]",
      "text/latex": [
       "$$240$$"
      ],
      "text/plain": [
       "240"
      ]
     },
     "execution_count": 63,
     "metadata": {},
     "output_type": "execute_result"
    }
   ],
   "source": [
    "360 -120"
   ]
  },
  {
   "cell_type": "code",
   "execution_count": null,
   "metadata": {
    "collapsed": true
   },
   "outputs": [],
   "source": []
  }
 ],
 "metadata": {
  "kernelspec": {
   "display_name": "Python 3",
   "language": "python",
   "name": "python3"
  },
  "language_info": {
   "codemirror_mode": {
    "name": "ipython",
    "version": 3
   },
   "file_extension": ".py",
   "mimetype": "text/x-python",
   "name": "python",
   "nbconvert_exporter": "python",
   "pygments_lexer": "ipython3",
   "version": "3.6.4"
  }
 },
 "nbformat": 4,
 "nbformat_minor": 2
}
