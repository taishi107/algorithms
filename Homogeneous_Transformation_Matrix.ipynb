{
 "cells": [
  {
   "cell_type": "code",
   "execution_count": 1,
   "metadata": {
    "collapsed": true
   },
   "outputs": [],
   "source": [
    "import numpy as np\n",
    "from numpy import sin,cos\n",
    "import matplotlib.pyplot as plt"
   ]
  },
  {
   "cell_type": "code",
   "execution_count": 2,
   "metadata": {
    "collapsed": true
   },
   "outputs": [],
   "source": [
    "def rotation_matrix(deg):\n",
    "    r = np.radians(deg)\n",
    "    R = np.matrix([[cos(r),-sin(r),0],\n",
    "                 [sin(r),cos(r),0],\n",
    "                 [0,0,1]])\n",
    "    return R"
   ]
  },
  {
   "cell_type": "code",
   "execution_count": 3,
   "metadata": {
    "collapsed": true
   },
   "outputs": [],
   "source": [
    "def translational_matrix(x,y):\n",
    "    p = np.matrix([[1.,0.,x],\n",
    "                  [0.,1.,y],\n",
    "                  [0.,0.,1.]])\n",
    "    return p"
   ]
  },
  {
   "cell_type": "code",
   "execution_count": 4,
   "metadata": {
    "collapsed": true
   },
   "outputs": [],
   "source": [
    "# 順運動学\n",
    "def forward_kinematics(T,x,y,deg):\n",
    "    v = np.matrix([[0.],[0.],[1.]])\n",
    "    R = rotation_matrix(deg)\n",
    "    p = translational_matrix(x,y)\n",
    "    T = T*p*R\n",
    "    return T"
   ]
  },
  {
   "cell_type": "code",
   "execution_count": 18,
   "metadata": {
    "collapsed": true
   },
   "outputs": [],
   "source": [
    "def plot(x, y):\n",
    "    fig = plt.figure()\n",
    "    ax = fig.add_subplot(111)\n",
    "    # リンクの描画\n",
    "    plt.plot(x, y,\"-g\",lw=5,label=\"link\")\n",
    "    # 関節のびょうｇ\n",
    "    plt.plot(x, y,\"or\",lw=5, ms=10,label=\"joint\")\n",
    "    plt.xlim(-0.2,4.0)\n",
    "    plt.ylim(-0.2,4.0)\n",
    "    plt.grid()\n",
    "    plt.show()\n"
   ]
  },
  {
   "cell_type": "code",
   "execution_count": 11,
   "metadata": {
    "collapsed": true
   },
   "outputs": [],
   "source": [
    "T0 = np.matrix([[1,0,0],\n",
    "             [0,1,0],\n",
    "             [0,0,1]])"
   ]
  },
  {
   "cell_type": "code",
   "execution_count": 13,
   "metadata": {},
   "outputs": [
    {
     "name": "stdout",
     "output_type": "stream",
     "text": [
      "[[ 0.5       -0.8660254  1.       ]\n",
      " [ 0.8660254  0.5        1.       ]\n",
      " [ 0.         0.         1.       ]]\n"
     ]
    }
   ],
   "source": [
    "T1 = forward_kinematics(T0,1,1,60)\n",
    "print(T1)"
   ]
  },
  {
   "cell_type": "code",
   "execution_count": 20,
   "metadata": {},
   "outputs": [
    {
     "name": "stdout",
     "output_type": "stream",
     "text": [
      "[[ 0.96592583 -0.25881905  2.8660254 ]\n",
      " [ 0.25881905  0.96592583  2.23205081]\n",
      " [ 0.          0.          1.        ]]\n"
     ]
    }
   ],
   "source": [
    "T2 = forward_kinematics(T1,2,-1,-45)\n",
    "print(T2)"
   ]
  },
  {
   "cell_type": "code",
   "execution_count": 21,
   "metadata": {},
   "outputs": [
    {
     "name": "stdout",
     "output_type": "stream",
     "text": [
      "[[ 0.5        -0.8660254   2.15891862]\n",
      " [ 0.8660254   0.5         1.00730594]\n",
      " [ 0.          0.          1.        ]]\n"
     ]
    }
   ],
   "source": [
    "T3 = forward_kinematics(T2,-1,-1,45)\n",
    "print(T3)"
   ]
  },
  {
   "cell_type": "code",
   "execution_count": null,
   "metadata": {
    "collapsed": true
   },
   "outputs": [],
   "source": []
  },
  {
   "cell_type": "code",
   "execution_count": 23,
   "metadata": {},
   "outputs": [
    {
     "data": {
      "image/png": "[encoded data removed]",
      "text/plain": [
       "<matplotlib.figure.Figure at 0x13bbf4da550>"
      ]
     },
     "metadata": {},
     "output_type": "display_data"
    }
   ],
   "source": [
    "x = [0,1,2.86,2.158]\n",
    "y = [0,1,2.23,1]\n",
    "plot(x,y)"
   ]
  }
 ],
 "metadata": {
  "kernelspec": {
   "display_name": "Python 3",
   "language": "python",
   "name": "python3"
  },
  "language_info": {
   "codemirror_mode": {
    "name": "ipython",
    "version": 3
   },
   "file_extension": ".py",
   "mimetype": "text/x-python",
   "name": "python",
   "nbconvert_exporter": "python",
   "pygments_lexer": "ipython3",
   "version": "3.6.4"
  }
 },
 "nbformat": 4,
 "nbformat_minor": 2
}
