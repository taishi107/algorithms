{
 "cells": [
  {
   "cell_type": "code",
   "execution_count": 1,
   "metadata": {
    "collapsed": true
   },
   "outputs": [],
   "source": [
    "import numpy as np\n",
    "from numpy import sin,cos\n",
    "import math \n",
    "from math import atan2\n",
    "import matplotlib.pyplot as plt"
   ]
  },
  {
   "cell_type": "code",
   "execution_count": 5,
   "metadata": {
    "collapsed": true
   },
   "outputs": [],
   "source": [
    "# 回転行列\n",
    "def rotation_matrix(deg):\n",
    "    r = np.radians(deg)\n",
    "    R = np.matrix([[cos(r),-sin(r),0],\n",
    "                 [sin(r),cos(r),0],\n",
    "                 [0,0,1]])\n",
    "    return R"
   ]
  },
  {
   "cell_type": "code",
   "execution_count": 4,
   "metadata": {
    "collapsed": true
   },
   "outputs": [],
   "source": [
    "# 並進ベクトル\n",
    "def translational_matrix(x,y):\n",
    "    p = np.matrix([[1.,0.,x],\n",
    "                  [0.,1.,y],\n",
    "                  [0.,0.,1.]])\n",
    "    return p"
   ]
  },
  {
   "cell_type": "code",
   "execution_count": 6,
   "metadata": {
    "collapsed": true
   },
   "outputs": [],
   "source": [
    "# 順運動学\n",
    "def forward_kinematics(T,x,y,deg):\n",
    "    v = np.matrix([[0.],[0.],[1.]])\n",
    "    R = rotation_matrix(deg)\n",
    "    p = translational_matrix(x,y)\n",
    "    T = T*p*R\n",
    "    return T"
   ]
  },
  {
   "cell_type": "code",
   "execution_count": 7,
   "metadata": {
    "collapsed": true
   },
   "outputs": [],
   "source": [
    "def plot(T):\n",
    "    fig = plt.figure()\n",
    "    ax = fig.add_subplot(111)\n",
    "    x=[]\n",
    "    y=[]\n",
    "    for i in range(len(T)):\n",
    "        \n",
    "        # リンクの描画\n",
    "        #plt.plot(x, y,\"-g\",lw=5,label=\"link\")\n",
    "        # 関節のびょうｇ\n",
    "        #plt.plot(x, y,\"or\",lw=5, ms=10,label=\"joint\")\n",
    "        x.append(T[i][0,2])\n",
    "        y.append(T[i][1,2])\n",
    "        left1 = np.array([T[i][0,2], T[i][0,2]+T[i][0,0]])\n",
    "        left2 = np.array([T[i][0,2], T[i][0,2]+T[i][0,1]])\n",
    "        height1 = np.array([T[i][1,2], T[i][1,2]+T[i][1,0]])\n",
    "        height2 = np.array([T[i][1,2], T[i][1,2]+T[i][1,1]])\n",
    "        \n",
    "        ax = plt.gca()\n",
    "        ax.set_aspect('equal', adjustable='box')\n",
    "        plt.plot(left1,height1)\n",
    "        plt.plot(left2,height2)\n",
    "        plt.xlim(-0.2,7.0)\n",
    "        plt.ylim(-0.2,7.0)\n",
    "        plt.grid()\n",
    "    for i in range(len(T)-1):\n",
    "        plt.quiver(x[i],y[i],x[i+1]-x[i],y[i+1]-y[i],angles='xy',scale_units='xy',scale=1)\n",
    "    plt.show()\n"
   ]
  },
  {
   "cell_type": "code",
   "execution_count": 15,
   "metadata": {
    "collapsed": true
   },
   "outputs": [],
   "source": [
    "def ang(T):\n",
    "    y = T[0,2]\n",
    "    x = T[1,2]\n",
    "    ang = atan2(y,x)\n",
    "    return ang"
   ]
  },
  {
   "cell_type": "code",
   "execution_count": 10,
   "metadata": {
    "collapsed": true
   },
   "outputs": [],
   "source": [
    "T0 = np.matrix([[1,0,0],\n",
    "             [0,1,0],\n",
    "             [0,0,1]])"
   ]
  },
  {
   "cell_type": "code",
   "execution_count": 16,
   "metadata": {},
   "outputs": [
    {
     "name": "stdout",
     "output_type": "stream",
     "text": [
      "[[ 0.8660254 -0.5        2.       ]\n",
      " [ 0.5        0.8660254  1.       ]\n",
      " [ 0.         0.         1.       ]]\n",
      "63.43494882292201\n"
     ]
    }
   ],
   "source": [
    "T1 = forward_kinematics(T0,2,1,30)\n",
    "print(T1)\n",
    "print(math.degrees(ang(T1)))"
   ]
  },
  {
   "cell_type": "code",
   "execution_count": 8,
   "metadata": {},
   "outputs": [
    {
     "data": {
      "text/plain": [
       "0.49999999999999994"
      ]
     },
     "execution_count": 8,
     "metadata": {},
     "output_type": "execute_result"
    }
   ],
   "source": [
    "T1[1,0]"
   ]
  },
  {
   "cell_type": "code",
   "execution_count": 9,
   "metadata": {},
   "outputs": [
    {
     "name": "stdout",
     "output_type": "stream",
     "text": [
      "[[ 0.96592583  0.25881905  2.3660254 ]\n",
      " [-0.25881905  0.96592583  2.3660254 ]\n",
      " [ 0.          0.          1.        ]]\n"
     ]
    }
   ],
   "source": [
    "T2 = forward_kinematics(T1,1,1,-45)\n",
    "print(T2)"
   ]
  },
  {
   "cell_type": "code",
   "execution_count": 10,
   "metadata": {},
   "outputs": [
    {
     "data": {
      "image/png": "[encoded data removed]",
      "text/plain": [
       "<matplotlib.figure.Figure at 0x1b49ff53898>"
      ]
     },
     "metadata": {},
     "output_type": "display_data"
    }
   ],
   "source": [
    "T = [T1,T2]\n",
    "plot(T)"
   ]
  },
  {
   "cell_type": "code",
   "execution_count": 18,
   "metadata": {
    "collapsed": true
   },
   "outputs": [],
   "source": [
    "from math import atan2\n",
    "import math"
   ]
  },
  {
   "cell_type": "code",
   "execution_count": 22,
   "metadata": {},
   "outputs": [
    {
     "data": {
      "text/plain": [
       "30.000727780827372"
      ]
     },
     "execution_count": 22,
     "metadata": {},
     "output_type": "execute_result"
    }
   ],
   "source": [
    "math.degrees(atan2(0.5,0.866))"
   ]
  }
 ],
 "metadata": {
  "kernelspec": {
   "display_name": "Python 3",
   "language": "python",
   "name": "python3"
  },
  "language_info": {
   "codemirror_mode": {
    "name": "ipython",
    "version": 3
   },
   "file_extension": ".py",
   "mimetype": "text/x-python",
   "name": "python",
   "nbconvert_exporter": "python",
   "pygments_lexer": "ipython3",
   "version": "3.6.4"
  }
 },
 "nbformat": 4,
 "nbformat_minor": 2
}
