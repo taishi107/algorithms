{
 "cells": [
  {
   "cell_type": "code",
   "execution_count": 2,
   "metadata": {
    "collapsed": true
   },
   "outputs": [],
   "source": [
    "import re"
   ]
  },
  {
   "cell_type": "code",
   "execution_count": 36,
   "metadata": {},
   "outputs": [],
   "source": [
    "### 複数のルールを用いた置換 ###\n",
    "class Lsystem():\n",
    "    def __init__(self):\n",
    "        self.string = \"A\"\n",
    "        self.rules = {\n",
    "            \"A\":\"AB\",\n",
    "            \"B\":\"A\"\n",
    "        }\n",
    "        \n",
    "    def replacement(self,times):\n",
    "        string = self.string\n",
    "        for i in range(times):\n",
    "            string = ''.join((self.rules.get(s,s) for s in string))\n",
    "            print(\"------------------------------------\")\n",
    "            print(\"n = {0} : {1}\".format(i+1,string))\n",
    "        return string    "
   ]
  },
  {
   "cell_type": "code",
   "execution_count": 38,
   "metadata": {},
   "outputs": [
    {
     "name": "stdout",
     "output_type": "stream",
     "text": [
      "------------------------------------\n",
      "n = 1 : AB\n",
      "------------------------------------\n",
      "n = 2 : ABA\n",
      "------------------------------------\n",
      "n = 3 : ABAAB\n",
      "------------------------------------\n",
      "n = 4 : ABAABABA\n",
      "------------------------------------\n",
      "n = 5 : ABAABABAABAAB\n",
      "------------------------------------\n",
      "n = 6 : ABAABABAABAABABAABABA\n",
      "------------------------------------\n",
      "n = 7 : ABAABABAABAABABAABABAABAABABAABAAB\n"
     ]
    }
   ],
   "source": [
    "lsys = Lsystem()\n",
    "times = 7\n",
    "string = lsys.replacement(times)"
   ]
  }
 ],
 "metadata": {
  "kernelspec": {
   "display_name": "Python 3",
   "language": "python",
   "name": "python3"
  },
  "language_info": {
   "codemirror_mode": {
    "name": "ipython",
    "version": 3
   },
   "file_extension": ".py",
   "mimetype": "text/x-python",
   "name": "python",
   "nbconvert_exporter": "python",
   "pygments_lexer": "ipython3",
   "version": "3.6.4"
  }
 },
 "nbformat": 4,
 "nbformat_minor": 2
}
