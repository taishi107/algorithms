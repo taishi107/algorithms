{
 "cells": [
  {
   "cell_type": "code",
   "execution_count": 55,
   "metadata": {
    "collapsed": true
   },
   "outputs": [],
   "source": [
    "import numpy as np\n",
    "from math import sin,cos,atan2,asin\n",
    "import math"
   ]
  },
  {
   "cell_type": "code",
   "execution_count": 66,
   "metadata": {
    "collapsed": true
   },
   "outputs": [],
   "source": [
    "def R(th_x,th_y,th_z):\n",
    "    \n",
    "    th_x = np.radians(th_x)\n",
    "    th_y = np.radians(th_y)\n",
    "    th_z = np.radians(th_z)\n",
    "    \n",
    "    Rx = np.array([\n",
    "        [1.,0.,0.],\n",
    "        [0.,cos(th_x),-sin(th_x)],\n",
    "        [0.,sin(th_x),cos(th_x)]\n",
    "    ])\n",
    "    Ry = np.array([\n",
    "        [cos(th_y),0.,sin(th_y)],\n",
    "        [0.,1.,0.],\n",
    "        [-sin(th_y),0.,cos(th_y)]\n",
    "    ])\n",
    "    Rz = np.array([\n",
    "        [cos(th_z),-sin(th_z),0.],\n",
    "        [sin(th_z),cos(th_z),0.],\n",
    "        [0.,0.,1.]\n",
    "    ])\n",
    "    \n",
    "    Ra = Rz @ Ry @ Rx\n",
    "    \n",
    "    return Ra"
   ]
  },
  {
   "cell_type": "code",
   "execution_count": 92,
   "metadata": {
    "collapsed": true
   },
   "outputs": [],
   "source": [
    "def deg(R):\n",
    "    r = atan2(R[2,1], R[2,2])\n",
    "    p = asin(-R[2,0])\n",
    "    y = atan2(R[1,0],R[0,0])\n",
    "    print(r, p, y)\n",
    "    return np.rad2deg(r), np.degrees(p), np.degrees(y)\n",
    "    #return([atan2(round(R[2,1],10),round(R[2,2],10)),\n",
    "            #atan2(round(math.sqrt(math.pow(R[0,2],2) + math.pow(R[1,2],2)),10),round(R[2,2],10)),\n",
    "            #atan2(round(R[1,0],10),round(R[0,0],10))])"
   ]
  },
  {
   "cell_type": "code",
   "execution_count": 93,
   "metadata": {},
   "outputs": [
    {
     "name": "stdout",
     "output_type": "stream",
     "text": [
      "[[ 1.  0.  0.]\n",
      " [ 0.  1.  0.]\n",
      " [ 0.  0.  1.]]\n"
     ]
    }
   ],
   "source": [
    "R0 = R(0,0,0)\n",
    "print(R0)"
   ]
  },
  {
   "cell_type": "code",
   "execution_count": 94,
   "metadata": {},
   "outputs": [
    {
     "name": "stdout",
     "output_type": "stream",
     "text": [
      "[[ 1.         0.         0.       ]\n",
      " [ 0.         0.8660254 -0.5      ]\n",
      " [ 0.         0.5        0.8660254]]\n",
      "sin -0.0\n",
      "0.5235987755982988 -0.0 0.0\n",
      "(29.999999999999996, -0.0, 0.0)\n"
     ]
    }
   ],
   "source": [
    "R1 = R(30,0,0)\n",
    "print(R1)\n",
    "print(deg(R1))"
   ]
  },
  {
   "cell_type": "code",
   "execution_count": 95,
   "metadata": {
    "scrolled": true
   },
   "outputs": [
    {
     "name": "stdout",
     "output_type": "stream",
     "text": [
      "[[ 1.         0.         0.       ]\n",
      " [ 0.         0.5       -0.8660254]\n",
      " [ 0.         0.8660254  0.5      ]]\n",
      "sin -0.0\n",
      "1.0471975511965976 -0.0 0.0\n",
      "(59.999999999999993, -0.0, 0.0)\n"
     ]
    }
   ],
   "source": [
    "R2 = R(30,0,0)\n",
    "tmp = R1@R2\n",
    "print(R1@R2)\n",
    "print(deg(tmp))"
   ]
  },
  {
   "cell_type": "code",
   "execution_count": 96,
   "metadata": {},
   "outputs": [
    {
     "name": "stdout",
     "output_type": "stream",
     "text": [
      "[[  1.00000000e+00   0.00000000e+00   0.00000000e+00]\n",
      " [  0.00000000e+00   2.14607521e-16  -1.00000000e+00]\n",
      " [  0.00000000e+00   1.00000000e+00   2.07170437e-16]]\n",
      "sin -0.0\n",
      "1.5707963267948963 -0.0 0.0\n",
      "(89.999999999999986, -0.0, 0.0)\n",
      "--------------------\n",
      "[[ 1.]\n",
      " [ 0.]\n",
      " [ 0.]]\n",
      "--------------------\n",
      "[[  0.00000000e+00]\n",
      " [  2.14607521e-16]\n",
      " [  1.00000000e+00]]\n",
      "--------------------\n",
      "[[  0.00000000e+00]\n",
      " [ -1.00000000e+00]\n",
      " [  2.07170437e-16]]\n",
      "--------------------\n"
     ]
    }
   ],
   "source": [
    "R3 = R(30,0,0)\n",
    "tmp = R1@R2@R3\n",
    "print(tmp)\n",
    "print((deg(tmp)))\n",
    "print(\"-\"*20)\n",
    "print(tmp@np.array([[1,0,0]]).T)\n",
    "print(\"-\"*20)\n",
    "print(tmp@np.array([[0,1,0]]).T)\n",
    "print(\"-\"*20)\n",
    "print(tmp@np.array([[0,0,1]]).T)\n",
    "print(\"-\"*20)"
   ]
  },
  {
   "cell_type": "code",
   "execution_count": 97,
   "metadata": {
    "scrolled": true
   },
   "outputs": [
    {
     "name": "stdout",
     "output_type": "stream",
     "text": [
      "[[  6.12323400e-17   0.00000000e+00   1.00000000e+00]\n",
      " [  1.00000000e+00   2.14607521e-16  -6.12323400e-17]\n",
      " [ -2.07170437e-16   1.00000000e+00   1.26855306e-32]]\n",
      "sin 2.0717043678169387e-16\n",
      "1.5707963267948966 2.0717043678169387e-16 1.5707963267948966\n",
      "(90.0, 1.1869991667472893e-14, 90.0)\n",
      "--------------------\n",
      "[[  6.12323400e-17]\n",
      " [  1.00000000e+00]\n",
      " [ -2.07170437e-16]]\n",
      "--------------------\n",
      "[[  0.00000000e+00]\n",
      " [  2.14607521e-16]\n",
      " [  1.00000000e+00]]\n",
      "--------------------\n",
      "[[  1.00000000e+00]\n",
      " [ -6.12323400e-17]\n",
      " [  1.26855306e-32]]\n",
      "--------------------\n"
     ]
    }
   ],
   "source": [
    "R4 = R(0,90,0)\n",
    "tmp = R1@R2@R3@R4\n",
    "print(tmp)\n",
    "print((deg(tmp)))\n",
    "print(\"-\"*20)\n",
    "print(tmp@np.array([[1,0,0]]).T)\n",
    "print(\"-\"*20)\n",
    "print(tmp@np.array([[0,1,0]]).T)\n",
    "print(\"-\"*20)\n",
    "print(tmp@np.array([[0,0,1]]).T)\n",
    "print(\"-\"*20)"
   ]
  },
  {
   "cell_type": "code",
   "execution_count": 98,
   "metadata": {
    "scrolled": true
   },
   "outputs": [
    {
     "name": "stdout",
     "output_type": "stream",
     "text": [
      "[[  6.12323400e-17   5.00000000e-01   8.66025404e-01]\n",
      " [  1.00000000e+00   1.55239395e-16  -1.60332522e-16]\n",
      " [ -2.07170437e-16   8.66025404e-01  -5.00000000e-01]]\n",
      "sin 2.0717043678169387e-16\n",
      "2.0943951023931953 2.0717043678169387e-16 1.5707963267948966\n",
      "(119.99999999999999, 1.1869991667472893e-14, 90.0)\n"
     ]
    }
   ],
   "source": [
    "R5 = R(30,0,0)\n",
    "tmp = R1@R2@R3@R4@R5\n",
    "print(tmp)\n",
    "print((deg(tmp)))"
   ]
  },
  {
   "cell_type": "code",
   "execution_count": 99,
   "metadata": {},
   "outputs": [
    {
     "name": "stdout",
     "output_type": "stream",
     "text": [
      "[[  6.12323400e-17   8.66025404e-01   5.00000000e-01]\n",
      " [  1.00000000e+00   5.42749985e-17  -2.16471735e-16]\n",
      " [ -2.07170437e-16   5.00000000e-01  -8.66025404e-01]]\n",
      "sin 2.0717043678169387e-16\n",
      "2.6179938779914944 2.0717043678169387e-16 1.5707963267948966\n",
      "(150.0, 1.1869991667472893e-14, 90.0)\n"
     ]
    }
   ],
   "source": [
    "R6 = R(30,0,0)\n",
    "tmp = R1@R2@R3@R4@R5@R6\n",
    "print(tmp)\n",
    "print((deg(tmp)))"
   ]
  },
  {
   "cell_type": "code",
   "execution_count": 100,
   "metadata": {},
   "outputs": [
    {
     "name": "stdout",
     "output_type": "stream",
     "text": [
      "[[  6.12323400e-17   1.00000000e+00   2.07170437e-16]\n",
      " [  1.00000000e+00  -6.12323400e-17  -2.14607521e-16]\n",
      " [ -2.07170437e-16   2.14607521e-16  -1.00000000e+00]]\n",
      "sin 2.0717043678169387e-16\n",
      "3.141592653589793 2.0717043678169387e-16 1.5707963267948966\n",
      "(180.0, 1.1869991667472893e-14, 90.0)\n",
      "--------------------\n",
      "[[  6.12323400e-17]\n",
      " [  1.00000000e+00]\n",
      " [ -2.07170437e-16]]\n",
      "--------------------\n",
      "[[  1.00000000e+00]\n",
      " [ -6.12323400e-17]\n",
      " [  2.14607521e-16]]\n",
      "--------------------\n",
      "[[  2.07170437e-16]\n",
      " [ -2.14607521e-16]\n",
      " [ -1.00000000e+00]]\n",
      "--------------------\n"
     ]
    }
   ],
   "source": [
    "R7 = R(30,0,0)\n",
    "tmp = R1@R2@R3@R4@R5@R6@R7\n",
    "print(tmp)\n",
    "print((deg(tmp)))\n",
    "print(\"-\"*20)\n",
    "print(tmp@np.array([[1,0,0]]).T)\n",
    "print(\"-\"*20)\n",
    "print(tmp@np.array([[0,1,0]]).T)\n",
    "print(\"-\"*20)\n",
    "print(tmp@np.array([[0,0,1]]).T)\n",
    "print(\"-\"*20)"
   ]
  },
  {
   "cell_type": "code",
   "execution_count": null,
   "metadata": {
    "collapsed": true
   },
   "outputs": [],
   "source": []
  },
  {
   "cell_type": "code",
   "execution_count": 101,
   "metadata": {},
   "outputs": [
    {
     "name": "stdout",
     "output_type": "stream",
     "text": [
      "[[ -2.07170437e-16   1.00000000e+00   6.12323400e-17]\n",
      " [  2.75839861e-16  -6.12323400e-17   1.00000000e+00]\n",
      " [  1.00000000e+00   2.14607521e-16  -2.68402777e-16]]\n",
      "sin -0.8414709848078965\n",
      "2.467112341804925 -1.5707963267948966 2.214971204632213\n",
      "(141.35512477005918, -90.0, 126.90850176843364)\n",
      "--------------------\n",
      "[[ -2.07170437e-16]\n",
      " [  2.75839861e-16]\n",
      " [  1.00000000e+00]]\n",
      "--------------------\n",
      "[[  1.00000000e+00]\n",
      " [ -6.12323400e-17]\n",
      " [  2.14607521e-16]]\n",
      "--------------------\n",
      "[[  6.12323400e-17]\n",
      " [  1.00000000e+00]\n",
      " [ -2.68402777e-16]]\n",
      "--------------------\n"
     ]
    }
   ],
   "source": [
    "R8 = R(0,90,0)\n",
    "tmp = R1@R2@R3@R4@R5@R6@R7@R8\n",
    "print(tmp)\n",
    "print((deg(tmp)))\n",
    "print(\"-\"*20)\n",
    "print(tmp@np.array([[1,0,0]]).T)\n",
    "print(\"-\"*20)\n",
    "print(tmp@np.array([[0,1,0]]).T)\n",
    "print(\"-\"*20)\n",
    "print(tmp@np.array([[0,0,1]]).T)\n",
    "print(\"-\"*20)"
   ]
  },
  {
   "cell_type": "code",
   "execution_count": 102,
   "metadata": {},
   "outputs": [
    {
     "name": "stdout",
     "output_type": "stream",
     "text": [
      "[[  3.29635117e-16  -1.00000000e+00   6.12323400e-17]\n",
      " [ -2.75839861e-16   6.12323400e-17   1.00000000e+00]\n",
      " [ -1.00000000e+00  -3.37072201e-16  -2.68402777e-16]]\n",
      "sin 0.8414709848078965\n",
      "-2.2432629043980072 1.5707963267948966 -0.696782825307343\n",
      "(-128.52949676026489, 90.0, -39.922715127312081)\n",
      "--------------------\n",
      "[[  3.29635117e-16]\n",
      " [ -2.75839861e-16]\n",
      " [ -1.00000000e+00]]\n",
      "--------------------\n",
      "[[ -1.00000000e+00]\n",
      " [  6.12323400e-17]\n",
      " [ -3.37072201e-16]]\n",
      "--------------------\n",
      "[[  6.12323400e-17]\n",
      " [  1.00000000e+00]\n",
      " [ -2.68402777e-16]]\n",
      "--------------------\n"
     ]
    }
   ],
   "source": [
    "R9 = R(0,0,180)\n",
    "tmp = R1@R2@R3@R4@R5@R6@R7@R8@R9\n",
    "print(tmp)\n",
    "print((deg(tmp)))\n",
    "print(\"-\"*20)\n",
    "print(tmp@np.array([[1,0,0]]).T)\n",
    "print(\"-\"*20)\n",
    "print(tmp@np.array([[0,1,0]]).T)\n",
    "print(\"-\"*20)\n",
    "print(tmp@np.array([[0,0,1]]).T)\n",
    "print(\"-\"*20)"
   ]
  },
  {
   "cell_type": "code",
   "execution_count": null,
   "metadata": {
    "collapsed": true
   },
   "outputs": [],
   "source": []
  },
  {
   "cell_type": "code",
   "execution_count": null,
   "metadata": {
    "collapsed": true
   },
   "outputs": [],
   "source": []
  },
  {
   "cell_type": "code",
   "execution_count": null,
   "metadata": {
    "collapsed": true
   },
   "outputs": [],
   "source": []
  }
 ],
 "metadata": {
  "kernelspec": {
   "display_name": "Python 3",
   "language": "python",
   "name": "python3"
  },
  "language_info": {
   "codemirror_mode": {
    "name": "ipython",
    "version": 3
   },
   "file_extension": ".py",
   "mimetype": "text/x-python",
   "name": "python",
   "nbconvert_exporter": "python",
   "pygments_lexer": "ipython3",
   "version": "3.6.4"
  }
 },
 "nbformat": 4,
 "nbformat_minor": 2
}
